{
 "cells": [
  {
   "cell_type": "markdown",
   "metadata": {},
   "source": [
    "## read midi files"
   ]
  },
  {
   "cell_type": "code",
   "execution_count": null,
   "metadata": {},
   "outputs": [],
   "source": [
    "DATA_DIR_MIDI = 'data/midi'  # Originals midi files\n",
    "DATA_DIR_PLAY = 'data/play'  # Target folder to show the reconstructed files\n",
    "DATA_DIR_SAMPLES = 'data/samples'  # Training/testing samples after pre-processing\n",
    "DATA_SAMPLES_RAW = 'raw'  # Unpreprocessed songs container tag\n",
    "DATA_SAMPLES_EXT = '.pkl'\n",
    "TEST_INIT_FILE = 'data/test/initiator.json'  # Initial input for the generated songs\n",
    "FILE_EXT = '.mid'  # Could eventually add support for other format later ?\n"
   ]
  },
  {
   "cell_type": "code",
   "execution_count": null,
   "metadata": {},
   "outputs": [],
   "source": [
    "split_nb = int(self.args.ratio_dataset * len(self.songs))\n",
    "songs_train = songs[:split_nb]\n",
    "songs_test = songs[split_nb:]\n",
    "songs = None  # Not needed anymore (free some memory)"
   ]
  }
 ],
 "metadata": {
  "kernelspec": {
   "display_name": "Python 3",
   "language": "python",
   "name": "python3"
  },
  "language_info": {
   "codemirror_mode": {
    "name": "ipython",
    "version": 3
   },
   "file_extension": ".py",
   "mimetype": "text/x-python",
   "name": "python",
   "nbconvert_exporter": "python",
   "pygments_lexer": "ipython3",
   "version": "3.5.2"
  }
 },
 "nbformat": 4,
 "nbformat_minor": 2
}
